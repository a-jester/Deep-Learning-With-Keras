{
 "cells": [
  {
   "cell_type": "code",
   "execution_count": 1,
   "metadata": {},
   "outputs": [
    {
     "name": "stderr",
     "output_type": "stream",
     "text": [
      "2023-03-08 14:27:57.206472: I tensorflow/core/platform/cpu_feature_guard.cc:193] This TensorFlow binary is optimized with oneAPI Deep Neural Network Library (oneDNN) to use the following CPU instructions in performance-critical operations:  AVX2 FMA\n",
      "To enable them in other operations, rebuild TensorFlow with the appropriate compiler flags.\n",
      "2023-03-08 14:27:58.884927: W tensorflow/compiler/xla/stream_executor/platform/default/dso_loader.cc:64] Could not load dynamic library 'libcudart.so.11.0'; dlerror: libcudart.so.11.0: cannot open shared object file: No such file or directory\n",
      "2023-03-08 14:27:58.884984: I tensorflow/compiler/xla/stream_executor/cuda/cudart_stub.cc:29] Ignore above cudart dlerror if you do not have a GPU set up on your machine.\n",
      "2023-03-08 14:28:01.484880: W tensorflow/compiler/xla/stream_executor/platform/default/dso_loader.cc:64] Could not load dynamic library 'libnvinfer.so.7'; dlerror: libnvinfer.so.7: cannot open shared object file: No such file or directory\n",
      "2023-03-08 14:28:01.485882: W tensorflow/compiler/xla/stream_executor/platform/default/dso_loader.cc:64] Could not load dynamic library 'libnvinfer_plugin.so.7'; dlerror: libnvinfer_plugin.so.7: cannot open shared object file: No such file or directory\n",
      "2023-03-08 14:28:01.485911: W tensorflow/compiler/tf2tensorrt/utils/py_utils.cc:38] TF-TRT Warning: Cannot dlopen some TensorRT libraries. If you would like to use Nvidia GPU with TensorRT, please make sure the missing libraries mentioned above are installed properly.\n"
     ]
    },
    {
     "name": "stdout",
     "output_type": "stream",
     "text": [
      "60000 train samples\n",
      "10000 test samples\n"
     ]
    }
   ],
   "source": [
    "from __future__ import print_function\n",
    "import numpy as np\n",
    "from keras.datasets import mnist\n",
    "from keras.models import Sequential\n",
    "from keras.layers.core import Dense, Activation\n",
    "from keras.optimizers import SGD\n",
    "from keras.utils import np_utils\n",
    "np.random.seed(1671) # for reproducibility\n",
    "\n",
    "# network and training\n",
    "NB_EPOCH = 20 # lowered from 200 to 20\n",
    "BATCH_SIZE = 128\n",
    "VERBOSE = 1\n",
    "NB_CLASSES = 10 # number of outputs = number of digits\n",
    "OPTIMIZER = SGD() \n",
    "N_HIDDEN = 128\n",
    "VALIDATION_SPLIT=0.2 \n",
    "\n",
    "# data: shuffled and split between\n",
    "(X_train, y_train), (X_test, y_test) = mnist.load_data()\n",
    "RESHAPED = 784\n",
    "#\n",
    "X_train = X_train.reshape(60000, RESHAPED)\n",
    "X_test = X_test.reshape(10000, RESHAPED)\n",
    "X_train = X_train.astype('float32')\n",
    "X_test = X_test.astype('float32')\n",
    "# normalize\n",
    "#\n",
    "X_train /= 255\n",
    "X_test /= 255\n",
    "print(X_train.shape[0], 'train samples')\n",
    "print(X_test.shape[0], 'test samples')\n",
    "\n",
    "# convert class vectors to binary class matrices\n",
    "Y_train = np_utils.to_categorical(y_train, NB_CLASSES)\n",
    "Y_test = np_utils.to_categorical(y_test, NB_CLASSES)"
   ]
  },
  {
   "cell_type": "code",
   "execution_count": 2,
   "metadata": {},
   "outputs": [
    {
     "name": "stdout",
     "output_type": "stream",
     "text": [
      "Model: \"sequential\"\n",
      "_________________________________________________________________\n",
      " Layer (type)                Output Shape              Param #   \n",
      "=================================================================\n",
      " dense (Dense)               (None, 128)               100480    \n",
      "                                                                 \n",
      " activation (Activation)     (None, 128)               0         \n",
      "                                                                 \n",
      " dense_1 (Dense)             (None, 128)               16512     \n",
      "                                                                 \n",
      " activation_1 (Activation)   (None, 128)               0         \n",
      "                                                                 \n",
      " dense_2 (Dense)             (None, 10)                1290      \n",
      "                                                                 \n",
      " activation_2 (Activation)   (None, 10)                0         \n",
      "                                                                 \n",
      "=================================================================\n",
      "Total params: 118,282\n",
      "Trainable params: 118,282\n",
      "Non-trainable params: 0\n",
      "_________________________________________________________________\n"
     ]
    },
    {
     "name": "stderr",
     "output_type": "stream",
     "text": [
      "2023-03-08 14:28:08.371925: W tensorflow/compiler/xla/stream_executor/platform/default/dso_loader.cc:64] Could not load dynamic library 'libcuda.so.1'; dlerror: libcuda.so.1: cannot open shared object file: No such file or directory\n",
      "2023-03-08 14:28:08.372151: W tensorflow/compiler/xla/stream_executor/cuda/cuda_driver.cc:265] failed call to cuInit: UNKNOWN ERROR (303)\n",
      "2023-03-08 14:28:08.372292: I tensorflow/compiler/xla/stream_executor/cuda/cuda_diagnostics.cc:156] kernel driver does not appear to be running on this host (DESKTOP-474R3E6): /proc/driver/nvidia/version does not exist\n",
      "2023-03-08 14:28:08.377895: I tensorflow/core/platform/cpu_feature_guard.cc:193] This TensorFlow binary is optimized with oneAPI Deep Neural Network Library (oneDNN) to use the following CPU instructions in performance-critical operations:  AVX2 FMA\n",
      "To enable them in other operations, rebuild TensorFlow with the appropriate compiler flags.\n"
     ]
    }
   ],
   "source": [
    "# Define the model\n",
    "# N_HIDDEN Layers\n",
    "# 10 outputs\n",
    "# final state is softmax\n",
    "model = Sequential()\n",
    "model.add(Dense(N_HIDDEN, input_shape=(RESHAPED,))) # Hidden Layer 1\n",
    "model.add(Activation('relu'))\n",
    "model.add(Dense(N_HIDDEN)) # Hidden Layer 2\n",
    "model.add(Activation('relu'))\n",
    "model.add(Dense(NB_CLASSES, input_shape=(RESHAPED,)))\n",
    "model.add(Activation('softmax'))\n",
    "model.summary()"
   ]
  },
  {
   "cell_type": "code",
   "execution_count": 4,
   "metadata": {},
   "outputs": [
    {
     "name": "stdout",
     "output_type": "stream",
     "text": [
      "Epoch 1/20\n"
     ]
    },
    {
     "name": "stderr",
     "output_type": "stream",
     "text": [
      "2023-03-08 14:51:07.965514: W tensorflow/tsl/framework/cpu_allocator_impl.cc:82] Allocation of 150528000 exceeds 10% of free system memory.\n"
     ]
    },
    {
     "name": "stdout",
     "output_type": "stream",
     "text": [
      "375/375 [==============================] - 2s 5ms/step - loss: 0.1892 - accuracy: 0.9457 - val_loss: 0.1873 - val_accuracy: 0.9484\n",
      "Epoch 2/20\n",
      "375/375 [==============================] - 2s 4ms/step - loss: 0.1839 - accuracy: 0.9470 - val_loss: 0.1842 - val_accuracy: 0.9485\n",
      "Epoch 3/20\n",
      "375/375 [==============================] - 1s 4ms/step - loss: 0.1794 - accuracy: 0.9483 - val_loss: 0.1802 - val_accuracy: 0.9497\n",
      "Epoch 4/20\n",
      "375/375 [==============================] - 1s 4ms/step - loss: 0.1745 - accuracy: 0.9500 - val_loss: 0.1758 - val_accuracy: 0.9510\n",
      "Epoch 5/20\n",
      "375/375 [==============================] - 2s 4ms/step - loss: 0.1704 - accuracy: 0.9509 - val_loss: 0.1731 - val_accuracy: 0.9513\n",
      "Epoch 6/20\n",
      "375/375 [==============================] - 2s 4ms/step - loss: 0.1661 - accuracy: 0.9521 - val_loss: 0.1702 - val_accuracy: 0.9532\n",
      "Epoch 7/20\n",
      "375/375 [==============================] - 2s 4ms/step - loss: 0.1620 - accuracy: 0.9540 - val_loss: 0.1664 - val_accuracy: 0.9537\n",
      "Epoch 8/20\n",
      "375/375 [==============================] - 2s 4ms/step - loss: 0.1583 - accuracy: 0.9545 - val_loss: 0.1636 - val_accuracy: 0.9532\n",
      "Epoch 9/20\n",
      "375/375 [==============================] - 2s 4ms/step - loss: 0.1546 - accuracy: 0.9562 - val_loss: 0.1609 - val_accuracy: 0.9554\n",
      "Epoch 10/20\n",
      "375/375 [==============================] - 2s 4ms/step - loss: 0.1511 - accuracy: 0.9570 - val_loss: 0.1584 - val_accuracy: 0.9538\n",
      "Epoch 11/20\n",
      "375/375 [==============================] - 1s 4ms/step - loss: 0.1477 - accuracy: 0.9582 - val_loss: 0.1568 - val_accuracy: 0.9555\n",
      "Epoch 12/20\n",
      "375/375 [==============================] - 1s 4ms/step - loss: 0.1444 - accuracy: 0.9591 - val_loss: 0.1536 - val_accuracy: 0.9568\n",
      "Epoch 13/20\n",
      "375/375 [==============================] - 2s 4ms/step - loss: 0.1412 - accuracy: 0.9602 - val_loss: 0.1504 - val_accuracy: 0.9572\n",
      "Epoch 14/20\n",
      "375/375 [==============================] - 2s 4ms/step - loss: 0.1382 - accuracy: 0.9612 - val_loss: 0.1489 - val_accuracy: 0.9582\n",
      "Epoch 15/20\n",
      "375/375 [==============================] - 2s 4ms/step - loss: 0.1353 - accuracy: 0.9614 - val_loss: 0.1462 - val_accuracy: 0.9582\n",
      "Epoch 16/20\n",
      "375/375 [==============================] - 2s 4ms/step - loss: 0.1325 - accuracy: 0.9622 - val_loss: 0.1449 - val_accuracy: 0.9582\n",
      "Epoch 17/20\n",
      "375/375 [==============================] - 2s 4ms/step - loss: 0.1299 - accuracy: 0.9632 - val_loss: 0.1424 - val_accuracy: 0.9606\n",
      "Epoch 18/20\n",
      "375/375 [==============================] - 2s 4ms/step - loss: 0.1271 - accuracy: 0.9642 - val_loss: 0.1405 - val_accuracy: 0.9603\n",
      "Epoch 19/20\n",
      "375/375 [==============================] - 2s 5ms/step - loss: 0.1249 - accuracy: 0.9644 - val_loss: 0.1388 - val_accuracy: 0.9604\n",
      "Epoch 20/20\n",
      "375/375 [==============================] - 2s 4ms/step - loss: 0.1224 - accuracy: 0.9653 - val_loss: 0.1381 - val_accuracy: 0.9614\n",
      "313/313 [==============================] - 1s 2ms/step - loss: 0.1340 - accuracy: 0.9603\n",
      "Test score: 0.13397768139839172\n",
      "Test accuracy: 0.9603000283241272\n"
     ]
    }
   ],
   "source": [
    "# Compile the model\n",
    "model.compile(loss='categorical_crossentropy', optimizer=OPTIMIZER, metrics=['accuracy'])\n",
    "\n",
    "# Train the model\n",
    "history = model.fit(X_train, Y_train,\n",
    "                    batch_size=BATCH_SIZE,\n",
    "                    epochs=NB_EPOCH,\n",
    "                    verbose=VERBOSE,\n",
    "                    validation_split=VALIDATION_SPLIT)\n",
    "\n",
    "# Evaluate the score and accuracy of the model\n",
    "score = model.evaluate(X_test, Y_test, verbose=VERBOSE)\n",
    "print(\"Test score:\", score[0])\n",
    "print(\"Test accuracy:\", score[1])"
   ]
  }
 ],
 "metadata": {
  "kernelspec": {
   "display_name": "Python 3",
   "language": "python",
   "name": "python3"
  },
  "language_info": {
   "codemirror_mode": {
    "name": "ipython",
    "version": 3
   },
   "file_extension": ".py",
   "mimetype": "text/x-python",
   "name": "python",
   "nbconvert_exporter": "python",
   "pygments_lexer": "ipython3",
   "version": "3.8.10"
  },
  "orig_nbformat": 4
 },
 "nbformat": 4,
 "nbformat_minor": 2
}
